{
  "nbformat": 4,
  "nbformat_minor": 0,
  "metadata": {
    "colab": {
      "provenance": [],
      "toc_visible": true,
      "authorship_tag": "ABX9TyOq/HUSDOL/i8ekXROl/D69",
      "include_colab_link": true
    },
    "kernelspec": {
      "name": "python3",
      "display_name": "Python 3"
    },
    "language_info": {
      "name": "python"
    }
  },
  "cells": [
    {
      "cell_type": "markdown",
      "metadata": {
        "id": "view-in-github",
        "colab_type": "text"
      },
      "source": [
        "<a href=\"https://colab.research.google.com/github/Ashleynyeango12/Rule-Based-Chatbot-with-Python/blob/main/Rule_Based_ChatBot.ipynb\" target=\"_parent\"><img src=\"https://colab.research.google.com/assets/colab-badge.svg\" alt=\"Open In Colab\"/></a>"
      ]
    },
    {
      "cell_type": "markdown",
      "source": [
        "Importing librabies"
      ],
      "metadata": {
        "id": "Sxkqg-kjxYx-"
      }
    },
    {
      "cell_type": "code",
      "execution_count": null,
      "metadata": {
        "id": "4PT8ZbATGx5v"
      },
      "outputs": [],
      "source": [
        "import re\n",
        "import random"
      ]
    },
    {
      "cell_type": "code",
      "source": [
        "from typing_extensions import Self\n",
        "class RuleBot:\n",
        "  #Responding to Potential negative responses\n",
        "  negative_responses = (\"no\", \"nope\", \"nah\", \"not a chance\", \"sorry\")\n",
        "  #Exit conversation keywords\n",
        "  exit_commands = (\"quit\", \"pause\", \"exit\", \"goodbye\", \"bye\", \"later\")\n",
        "  #Random starter question\n",
        "  random_questions = (\n",
        "   \"Why are you here?\",\n",
        "   \"Are there many humans like you?\",\n",
        "   \"What do you consume for sustenance?\",\n",
        "   \"Is there intelligent life on this planet?\",\n",
        "   \"Does Earth have a leader?\",\n",
        "   \"What planets have you visited?\",\n",
        "   \"What technology do you have on this planet?\"\n",
        "  )\n",
        "\n",
        "  def __init__(self):\n",
        "     self.alienbabble= {\n",
        "        'describe_planet_intent': r'.*\\s*your planet.*',\n",
        "        'answer_why_intent': r'why\\sare.*',\n",
        "        'about_intellipat': r'.*\\s*intellipaat'\n",
        "    }\n",
        "\n",
        "  #this function permits the bot to greet\n",
        "  def greet(self):\n",
        "      self.name = input(\"Hello please what is your name?\\n\")\n",
        "      will_help = input(\n",
        "          f\"Hi {self.name}, I am Rule-Bot. Will you help me learn about your planet\\n\")\n",
        "      if will_help in self.negative_responses:\n",
        "        print(\"Ok, have a nice Earth day\")\n",
        "        return\n",
        "      self.chat()\n",
        "\n",
        "  #this envoke the exit bot flow or conversation\n",
        "  def make_exit(self, reply):\n",
        "    for command in self.exit_commands:\n",
        "      if reply == command:\n",
        "        print(\"okay, have a nice Earth day\")\n",
        "        return True\n",
        "\n",
        "    #Continuous the chat with the user by matching what you replied with a match reply function\n",
        "  def chat(self):\n",
        "    reply = input(random.choice(self.random_questions)).lower()\n",
        "    while not self.make_exit(reply):\n",
        "      reply = input(self.match_reply(reply))\n",
        "\n",
        "      #match reply function\n",
        "  def match_reply(self, reply):\n",
        "    for key,  value in self.alienbabble.items():\n",
        "      intent = key\n",
        "      regex_pattern = value\n",
        "      found_match = re.match(regex_pattern, reply)\n",
        "      if found_match and intent == 'describe_planet_intent':\n",
        "        return self.describe_planet_intent()\n",
        "      elif found_match and intent == 'answer_why_intent':\n",
        "        return self.answer_why_intent()\n",
        "      elif found_match and intent == 'about_intellipat':\n",
        "        return self.about_intellipat()\n",
        "    if not found_match:\n",
        "      return self.no_match_intent()\n",
        "\n",
        "  def describe_planet_intent(self):\n",
        "    responses = (\"My planet is a utopia of diverse organisms and species.\\n\",\n",
        "                 \"I am from Opidipus, the capital of the Wayward Galaxies.\\n\")\n",
        "    return random.choice(responses)\n",
        "\n",
        "  def answer_why_intent(self):\n",
        "    responses = (\"I come in peace\\n\", \"I am here to collect data on you planet and its inhabitants\\n\",\n",
        "                 \"I heard the coffe is good.\\n\")\n",
        "    return random.choice(responses)\n",
        "\n",
        "  def about_intellipat(self):\n",
        "    responses = (\"Intellipat is world's largest professional educational company.\\n\", \"Intellipat will make you learn concepts in the way never learn\"\n",
        "                 \"Intellipat is where your career and skills grows.\\n\")\n",
        "    return \"Intellipant is a Great place to learn\\n\"\n",
        "\n",
        "  def no_match_intent(self):\n",
        "    responses = (\"Please tell me more.\\n\", \"Tell me more!\\n\", \"Why do you say that?\\n\", \"I see. Can you elaborate?\\n\",\n",
        "                 \"Interesting. Can you tell me more?.\\n\", \"I see. What do you think?\\n\", \"Why?\\n\",\n",
        "                 \"Do you think its right?\\n\")\n",
        "    return random.choice(responses)\n",
        "\n",
        "AlienBot = RuleBot()\n",
        "AlienBot.greet()"
      ],
      "metadata": {
        "colab": {
          "base_uri": "https://localhost:8080/"
        },
        "id": "N3JXSpqwySXi",
        "outputId": "7374f1e0-b7af-4f66-cd0f-a33f0528fc94"
      },
      "execution_count": null,
      "outputs": [
        {
          "output_type": "stream",
          "name": "stdout",
          "text": [
            "Hello please what is your name?\n",
            "Tracy\n",
            "Hi Tracy, I am Rule-Bot. Will you help me learn about your planet\n",
            "tell me about your planet.\n",
            "Is there intelligent life on this planet?tell me about your planet.\n",
            "My planet is a utopia of diverse organisms and species.\n",
            "tell me more about your planet.\n",
            "My planet is a utopia of diverse organisms and species.\n",
            "why are you here\n",
            "I am here to collect data on you planet and its inhabitants\n",
            "bye\n",
            "okay, have a nice Earth day\n"
          ]
        }
      ]
    }
  ]
}